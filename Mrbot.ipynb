{
 "cells": [
  {
   "cell_type": "code",
   "execution_count": 71,
   "metadata": {},
   "outputs": [
    {
     "name": "stdout",
     "output_type": "stream",
     "text": [
      "Requirement already satisfied: nltk in c:\\users\\hiteshkavati\\appdata\\local\\programs\\python\\python310\\lib\\site-packages (3.8.1)\n",
      "Requirement already satisfied: click in c:\\users\\hiteshkavati\\appdata\\local\\programs\\python\\python310\\lib\\site-packages (from nltk) (8.1.7)\n",
      "Requirement already satisfied: joblib in c:\\users\\hiteshkavati\\appdata\\local\\programs\\python\\python310\\lib\\site-packages (from nltk) (1.3.2)\n",
      "Requirement already satisfied: regex>=2021.8.3 in c:\\users\\hiteshkavati\\appdata\\local\\programs\\python\\python310\\lib\\site-packages (from nltk) (2023.12.25)\n",
      "Requirement already satisfied: tqdm in c:\\users\\hiteshkavati\\appdata\\local\\programs\\python\\python310\\lib\\site-packages (from nltk) (4.66.2)\n",
      "Requirement already satisfied: colorama in c:\\users\\hiteshkavati\\appdata\\local\\programs\\python\\python310\\lib\\site-packages (from click->nltk) (0.4.6)\n",
      "Requirement already satisfied: scikit-learn in c:\\users\\hiteshkavati\\appdata\\local\\programs\\python\\python310\\lib\\site-packages (1.3.2)\n",
      "Requirement already satisfied: numpy<2.0,>=1.17.3 in c:\\users\\hiteshkavati\\appdata\\local\\programs\\python\\python310\\lib\\site-packages (from scikit-learn) (1.26.4)\n",
      "Requirement already satisfied: scipy>=1.5.0 in c:\\users\\hiteshkavati\\appdata\\local\\programs\\python\\python310\\lib\\site-packages (from scikit-learn) (1.11.3)\n",
      "Requirement already satisfied: joblib>=1.1.1 in c:\\users\\hiteshkavati\\appdata\\local\\programs\\python\\python310\\lib\\site-packages (from scikit-learn) (1.3.2)\n",
      "Requirement already satisfied: threadpoolctl>=2.0.0 in c:\\users\\hiteshkavati\\appdata\\local\\programs\\python\\python310\\lib\\site-packages (from scikit-learn) (3.2.0)\n"
     ]
    }
   ],
   "source": [
    "!pip install nltk\n",
    "!pip install scikit-learn\n"
   ]
  },
  {
   "cell_type": "code",
   "execution_count": 72,
   "metadata": {},
   "outputs": [
    {
     "name": "stderr",
     "output_type": "stream",
     "text": [
      "[nltk_data] Downloading package punkt to\n",
      "[nltk_data]     C:\\Users\\HITESHKAVATI\\AppData\\Roaming\\nltk_data...\n",
      "[nltk_data]   Package punkt is already up-to-date!\n",
      "[nltk_data] Downloading package stopwords to\n",
      "[nltk_data]     C:\\Users\\HITESHKAVATI\\AppData\\Roaming\\nltk_data...\n",
      "[nltk_data]   Package stopwords is already up-to-date!\n",
      "[nltk_data] Downloading package wordnet to\n",
      "[nltk_data]     C:\\Users\\HITESHKAVATI\\AppData\\Roaming\\nltk_data...\n",
      "[nltk_data]   Package wordnet is already up-to-date!\n"
     ]
    },
    {
     "data": {
      "text/plain": [
       "True"
      ]
     },
     "execution_count": 72,
     "metadata": {},
     "output_type": "execute_result"
    }
   ],
   "source": [
    "import pandas as pd\n",
    "import nltk\n",
    "from nltk.corpus import stopwords\n",
    "from nltk.tokenize import word_tokenize\n",
    "from nltk.stem import WordNetLemmatizer\n",
    "import string\n",
    "\n",
    "# Download NLTK resources\n",
    "nltk.download('punkt')\n",
    "nltk.download('stopwords')\n",
    "nltk.download('wordnet')\n"
   ]
  },
  {
   "cell_type": "code",
   "execution_count": 73,
   "metadata": {},
   "outputs": [
    {
     "name": "stdout",
     "output_type": "stream",
     "text": [
      "                            user_input  \\\n",
      "0    I'm feeling anxious about my job.   \n",
      "1        I'm worried about the future.   \n",
      "2     I'm experiencing social anxiety.   \n",
      "3    I'm feeling down and unmotivated.   \n",
      "4  I don't enjoy the things I used to.   \n",
      "\n",
      "                                    chatbot_response  \\\n",
      "0  I'm sorry to hear that. Have you tried talking...   \n",
      "1  It's natural to feel that way. Can I offer som...   \n",
      "2  It can be tough, but you're not alone. Would y...   \n",
      "3  I'm here to help. Have you talked to anyone ab...   \n",
      "4  It might be a sign of something deeper. I'm he...   \n",
      "\n",
      "             user_input_processed  \\\n",
      "0          'm feeling anxious job   \n",
      "1               'm worried future   \n",
      "2  'm experiencing social anxiety   \n",
      "3          'm feeling unmotivated   \n",
      "4            n't enjoy thing used   \n",
      "\n",
      "                         chatbot_response_processed  \n",
      "0               'm sorry hear tried talking someone  \n",
      "1          's natural feel way offer support advice  \n",
      "2           tough 're alone would like tip managing  \n",
      "3                 'm help talked anyone 're feeling  \n",
      "4  might sign something deeper 'm listen want share  \n"
     ]
    }
   ],
   "source": [
    "# Load dataset\n",
    "df = pd.read_csv(\"chatbot.csv\")  # Replace \"your_dataset.csv\" with the path to your dataset\n",
    "\n",
    "# Preprocessing function\n",
    "def preprocess_text(text):\n",
    "    # Tokenization\n",
    "    tokens = word_tokenize(text.lower())\n",
    "    \n",
    "    # Remove punctuation\n",
    "    tokens = [word for word in tokens if word not in string.punctuation]\n",
    "    \n",
    "    # Remove stop words\n",
    "    stop_words = set(stopwords.words('english'))\n",
    "    tokens = [word for word in tokens if word not in stop_words]\n",
    "    \n",
    "    # Lemmatization\n",
    "    lemmatizer = WordNetLemmatizer()\n",
    "    tokens = [lemmatizer.lemmatize(word) for word in tokens]\n",
    "    \n",
    "    # Join tokens back into a string\n",
    "    preprocessed_text = ' '.join(tokens)\n",
    "    \n",
    "    return preprocessed_text\n",
    "\n",
    "# Apply preprocessing to user_input and chatbot_response columns\n",
    "df['user_input_processed'] = df['user_input'].apply(preprocess_text)\n",
    "df['chatbot_response_processed'] = df['chatbot_response'].apply(preprocess_text)\n",
    "\n",
    "# Print the first few rows of preprocessed data\n",
    "print(df.head())\n"
   ]
  },
  {
   "cell_type": "code",
   "execution_count": 74,
   "metadata": {},
   "outputs": [
    {
     "data": {
      "image/png": "[encoded data removed]",
      "text/plain": [
       "<Figure size 800x600 with 1 Axes>"
      ]
     },
     "metadata": {},
     "output_type": "display_data"
    }
   ],
   "source": [
    "import matplotlib.pyplot as plt\n",
    "\n",
    "#data exploration and visualization\n",
    "\n",
    "\n",
    "# Plotting the distribution of user_input lengths\n",
    "df['user_input_length'] = df['user_input'].apply(lambda x: len(x))\n",
    "plt.figure(figsize=(8, 6))\n",
    "plt.hist(df['user_input_length'], bins=30, color='skyblue', edgecolor='black')\n",
    "plt.title('Distribution of User Input Lengths')\n",
    "plt.xlabel('Length of User Input')\n",
    "plt.ylabel('Frequency')\n",
    "plt.grid(True)\n",
    "plt.show()"
   ]
  },
  {
   "cell_type": "code",
   "execution_count": 75,
   "metadata": {},
   "outputs": [],
   "source": [
    " #Importing Necessary Libraries for GUI\n",
    "\n",
    "import tkinter as tk\n",
    "from tkinter import ttk, scrolledtext, messagebox\n",
    "import pandas as pd\n",
    "from sklearn.feature_extraction.text import TfidfVectorizer\n",
    "from sklearn.metrics.pairwise import cosine_similarity\n",
    "import sqlite3"
   ]
  },
  {
   "cell_type": "code",
   "execution_count": 76,
   "metadata": {},
   "outputs": [],
   "source": [
    "#Define Functions for Chatbot\n",
    "\n",
    "# Preprocessing function\n",
    "def preprocess_text(text):\n",
    "    tokens = word_tokenize(text.lower())\n",
    "    tokens = [word for word in tokens if word not in string.punctuation]\n",
    "    stop_words = set(stopwords.words('english'))\n",
    "    tokens = [word for word in tokens if word not in stop_words]\n",
    "    lemmatizer = WordNetLemmatizer()\n",
    "    tokens = [lemmatizer.lemmatize(word) for word in tokens]\n",
    "    preprocessed_text = ' '.join(tokens)\n",
    "    return preprocessed_text\n",
    "\n",
    "\n",
    "# Function to find most similar response\n",
    "def get_most_similar_response(user_input):\n",
    "    user_input_processed = preprocess_text(user_input)\n",
    "    user_vector = vectorizer.transform([user_input_processed])\n",
    "    similarities = cosine_similarity(user_vector, corpus_vectors)\n",
    "    most_similar_index = similarities.argsort(axis=1).flatten()[-1]\n",
    "    return df['chatbot_response'].iloc[most_similar_index]"
   ]
  },
  {
   "cell_type": "code",
   "execution_count": 77,
   "metadata": {},
   "outputs": [],
   "source": [
    " #Define the ChatbotApp Class\n",
    "\n",
    "class ChatbotApp:\n",
    "    def __init__(self, root):\n",
    "        self.root = root\n",
    "        self.root.title(\"Mental Health Support Chatbot\")\n",
    "        self.root.geometry(\"800x600\")\n",
    "        self.root.configure(bg=\"#FFC0CB\")\n",
    "\n",
    "        self.chat_history = []\n",
    "        self.login_frame = tk.Frame(root)\n",
    "        self.login_frame.pack(pady=50)\n",
    "        self.login_frame.configure(bg=\"#ffffff\")\n",
    "\n",
    "        self.username_label = ttk.Label(self.login_frame, text=\"Username:\")\n",
    "        self.username_label.grid(row=0, column=0, padx=10, pady=5)\n",
    "        self.username_entry = ttk.Entry(self.login_frame, width=30)\n",
    "        self.username_entry.grid(row=0, column=1, padx=10, pady=5)\n",
    "\n",
    "        self.password_label = ttk.Label(self.login_frame, text=\"Password:\")\n",
    "        self.password_label.grid(row=1, column=0, padx=10, pady=5)\n",
    "        self.password_entry = ttk.Entry(self.login_frame, show=\"*\", width=30)\n",
    "        self.password_entry.grid(row=1, column=1, padx=10, pady=5)\n",
    "\n",
    "        self.login_button = ttk.Button(self.login_frame, text=\"Login\", command=self.login)\n",
    "        self.login_button.grid(row=2, column=0, columnspan=2, padx=10, pady=10)\n",
    "\n",
    "        self.register_button = ttk.Button(self.login_frame, text=\"Sign Up\", command=self.register)\n",
    "        self.register_button.grid(row=3, column=0, columnspan=2, padx=10, pady=10)\n",
    "\n",
    "        self.chat_history_display = scrolledtext.ScrolledText(root, width=70, height=20, font=('Times New Roman', 14))\n",
    "        self.chat_history_display.pack(padx=10, pady=10)\n",
    "\n",
    "        self.user_input_entry = ttk.Entry(root, width=70, font=('Times New Roman', 14))\n",
    "        self.user_input_entry.pack(padx=10, pady=5)\n",
    "\n",
    "        self.send_button = ttk.Button(root, text=\"Send\", command=self.send_message)\n",
    "        self.send_button.pack(padx=10, pady=5)\n",
    "\n",
    "        self.chat_history_display.pack_forget()\n",
    "        self.user_input_entry.pack_forget()\n",
    "        self.send_button.pack_forget()\n",
    "\n",
    "        self.initialize_chatbot()\n",
    "\n",
    "    def initialize_chatbot(self):\n",
    "        pass\n",
    "\n",
    "    def login(self):\n",
    "        username = self.username_entry.get()\n",
    "        password = self.password_entry.get()\n",
    "        if self.authenticate_user(username, password):\n",
    "            messagebox.showinfo(\"Login Successful\", \"Welcome, \" + username + \"!\")\n",
    "            self.login_frame.pack_forget()\n",
    "            self.chat_history_display.pack(padx=10, pady=10)\n",
    "            self.user_input_entry.pack(padx=10, pady=5)\n",
    "            self.send_button.pack(padx=10, pady=5)\n",
    "            self.append_to_chat_history(\"Chatbot: Hi there! How can I help you today?\", is_bot=True)\n",
    "        else:\n",
    "            messagebox.showerror(\"Login Failed\", \"Invalid username or password. Please try again.\")\n",
    "\n",
    "    def register(self):\n",
    "        username = self.username_entry.get()\n",
    "        password = self.password_entry.get()\n",
    "        if self.check_existing_user(username):\n",
    "            messagebox.showerror(\"Registration Failed\", \"Username already exists. Please choose a different username.\")\n",
    "            return\n",
    "        self.add_user_to_database(username, password)\n",
    "        messagebox.showinfo(\"Registration Successful\", \"User registered successfully! You can now login.\")\n",
    "\n",
    "    def authenticate_user(self, username, password):\n",
    "        conn = sqlite3.connect(\"users.db\")\n",
    "        cursor = conn.cursor()\n",
    "        cursor.execute(\"SELECT * FROM users WHERE username=? AND password=?\", (username, password))\n",
    "        user = cursor.fetchone()\n",
    "        conn.close()\n",
    "        return user is not None\n",
    "\n",
    "    def check_existing_user(self, username):\n",
    "        conn = sqlite3.connect(\"users.db\")\n",
    "        cursor = conn.cursor()\n",
    "        cursor.execute(\"SELECT * FROM users WHERE username=?\", (username,))\n",
    "        user = cursor.fetchone()\n",
    "        conn.close()\n",
    "        return user is not None\n",
    "\n",
    "    def add_user_to_database(self, username, password):\n",
    "        conn = sqlite3.connect(\"users.db\")\n",
    "        cursor = conn.cursor()\n",
    "        cursor.execute(\"INSERT INTO users (username, password) VALUES (?, ?)\", (username, password))\n",
    "        conn.commit()\n",
    "        conn.close()\n",
    "\n",
    "    def send_message(self):\n",
    "        user_input = self.user_input_entry.get()\n",
    "        self.user_input_entry.delete(0, tk.END)\n",
    "        self.append_to_chat_history(\"You: \" + user_input, is_bot=False)\n",
    "        chatbot_response = get_most_similar_response(user_input)\n",
    "        self.append_to_chat_history(\"Chatbot: \" + chatbot_response, is_bot=True)\n",
    "\n",
    "    def append_to_chat_history(self, message, is_bot=False):\n",
    "        self.chat_history.append((message, is_bot))\n",
    "        self.display_messages()\n",
    "\n",
    "    def display_messages(self):\n",
    "        self.chat_history_display.configure(state='normal')\n",
    "        self.chat_history_display.delete(1.0, tk.END)\n",
    "        for message, is_bot in self.chat_history:\n",
    "            if is_bot:\n",
    "                self.chat_history_display.insert(tk.END, message + \"\\n\", 'bot')\n",
    "            else:\n",
    "                self.chat_history_display.insert(tk.END, message + \"\\n\", 'user')\n",
    "        self.chat_history_display.configure(state='disabled')"
   ]
  },
  {
   "cell_type": "code",
   "execution_count": 79,
   "metadata": {},
   "outputs": [],
   "source": [
    "#Create Tkinter Root Window and ChatbotApp Instance\n",
    "\n",
    "root = tk.Tk()\n",
    "app = ChatbotApp(root)\n",
    "\n",
    "# Styling for messages\n",
    "app.chat_history_display.tag_configure('bot', foreground='black', justify='left', font=('Times New Roman', 14))\n",
    "app.chat_history_display.tag_configure('user', foreground='black', justify='right', font=('Times New Roman', 14))\n",
    "\n",
    "# Run the Tkinter event loop\n",
    "root.mainloop()"
   ]
  }
 ],
 "metadata": {
  "kernelspec": {
   "display_name": "Python 3",
   "language": "python",
   "name": "python3"
  },
  "language_info": {
   "codemirror_mode": {
    "name": "ipython",
    "version": 3
   },
   "file_extension": ".py",
   "mimetype": "text/x-python",
   "name": "python",
   "nbconvert_exporter": "python",
   "pygments_lexer": "ipython3",
   "version": "3.10.5"
  }
 },
 "nbformat": 4,
 "nbformat_minor": 2
}
